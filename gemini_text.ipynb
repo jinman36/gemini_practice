{
 "cells": [
  {
   "cell_type": "code",
   "execution_count": 1,
   "metadata": {},
   "outputs": [
    {
     "name": "stdout",
     "output_type": "stream",
     "text": [
      "Requirement already satisfied: langchain-google-genai in /home/copper_turtle/anaconda3/envs/ai_ml/lib/python3.12/site-packages (1.0.1)\n",
      "Requirement already satisfied: google-generativeai<0.5.0,>=0.4.1 in /home/copper_turtle/anaconda3/envs/ai_ml/lib/python3.12/site-packages (from langchain-google-genai) (0.4.1)\n",
      "Requirement already satisfied: langchain-core<0.2,>=0.1 in /home/copper_turtle/anaconda3/envs/ai_ml/lib/python3.12/site-packages (from langchain-google-genai) (0.1.33)\n",
      "Requirement already satisfied: google-ai-generativelanguage==0.4.0 in /home/copper_turtle/anaconda3/envs/ai_ml/lib/python3.12/site-packages (from google-generativeai<0.5.0,>=0.4.1->langchain-google-genai) (0.4.0)\n",
      "Requirement already satisfied: google-auth>=2.15.0 in /home/copper_turtle/anaconda3/envs/ai_ml/lib/python3.12/site-packages (from google-generativeai<0.5.0,>=0.4.1->langchain-google-genai) (2.28.1)\n",
      "Requirement already satisfied: google-api-core in /home/copper_turtle/anaconda3/envs/ai_ml/lib/python3.12/site-packages (from google-generativeai<0.5.0,>=0.4.1->langchain-google-genai) (2.17.1)\n",
      "Requirement already satisfied: protobuf in /home/copper_turtle/anaconda3/envs/ai_ml/lib/python3.12/site-packages (from google-generativeai<0.5.0,>=0.4.1->langchain-google-genai) (4.25.2)\n",
      "Requirement already satisfied: pydantic in /home/copper_turtle/anaconda3/envs/ai_ml/lib/python3.12/site-packages (from google-generativeai<0.5.0,>=0.4.1->langchain-google-genai) (2.6.2)\n",
      "Requirement already satisfied: tqdm in /home/copper_turtle/anaconda3/envs/ai_ml/lib/python3.12/site-packages (from google-generativeai<0.5.0,>=0.4.1->langchain-google-genai) (4.65.0)\n",
      "Requirement already satisfied: typing-extensions in /home/copper_turtle/anaconda3/envs/ai_ml/lib/python3.12/site-packages (from google-generativeai<0.5.0,>=0.4.1->langchain-google-genai) (4.9.0)\n",
      "Requirement already satisfied: proto-plus<2.0.0dev,>=1.22.3 in /home/copper_turtle/anaconda3/envs/ai_ml/lib/python3.12/site-packages (from google-ai-generativelanguage==0.4.0->google-generativeai<0.5.0,>=0.4.1->langchain-google-genai) (1.23.0)\n",
      "Requirement already satisfied: PyYAML>=5.3 in /home/copper_turtle/anaconda3/envs/ai_ml/lib/python3.12/site-packages (from langchain-core<0.2,>=0.1->langchain-google-genai) (6.0.1)\n",
      "Requirement already satisfied: anyio<5,>=3 in /home/copper_turtle/anaconda3/envs/ai_ml/lib/python3.12/site-packages (from langchain-core<0.2,>=0.1->langchain-google-genai) (4.3.0)\n",
      "Requirement already satisfied: jsonpatch<2.0,>=1.33 in /home/copper_turtle/anaconda3/envs/ai_ml/lib/python3.12/site-packages (from langchain-core<0.2,>=0.1->langchain-google-genai) (1.33)\n",
      "Requirement already satisfied: langsmith<0.2.0,>=0.1.0 in /home/copper_turtle/anaconda3/envs/ai_ml/lib/python3.12/site-packages (from langchain-core<0.2,>=0.1->langchain-google-genai) (0.1.31)\n",
      "Requirement already satisfied: packaging<24.0,>=23.2 in /home/copper_turtle/anaconda3/envs/ai_ml/lib/python3.12/site-packages (from langchain-core<0.2,>=0.1->langchain-google-genai) (23.2)\n",
      "Requirement already satisfied: requests<3,>=2 in /home/copper_turtle/anaconda3/envs/ai_ml/lib/python3.12/site-packages (from langchain-core<0.2,>=0.1->langchain-google-genai) (2.31.0)\n",
      "Requirement already satisfied: tenacity<9.0.0,>=8.1.0 in /home/copper_turtle/anaconda3/envs/ai_ml/lib/python3.12/site-packages (from langchain-core<0.2,>=0.1->langchain-google-genai) (8.2.3)\n",
      "Requirement already satisfied: idna>=2.8 in /home/copper_turtle/anaconda3/envs/ai_ml/lib/python3.12/site-packages (from anyio<5,>=3->langchain-core<0.2,>=0.1->langchain-google-genai) (3.4)\n",
      "Requirement already satisfied: sniffio>=1.1 in /home/copper_turtle/anaconda3/envs/ai_ml/lib/python3.12/site-packages (from anyio<5,>=3->langchain-core<0.2,>=0.1->langchain-google-genai) (1.3.1)\n",
      "Requirement already satisfied: googleapis-common-protos<2.0.dev0,>=1.56.2 in /home/copper_turtle/anaconda3/envs/ai_ml/lib/python3.12/site-packages (from google-api-core->google-generativeai<0.5.0,>=0.4.1->langchain-google-genai) (1.62.0)\n",
      "Requirement already satisfied: cachetools<6.0,>=2.0.0 in /home/copper_turtle/anaconda3/envs/ai_ml/lib/python3.12/site-packages (from google-auth>=2.15.0->google-generativeai<0.5.0,>=0.4.1->langchain-google-genai) (5.3.2)\n",
      "Requirement already satisfied: pyasn1-modules>=0.2.1 in /home/copper_turtle/anaconda3/envs/ai_ml/lib/python3.12/site-packages (from google-auth>=2.15.0->google-generativeai<0.5.0,>=0.4.1->langchain-google-genai) (0.3.0)\n",
      "Requirement already satisfied: rsa<5,>=3.1.4 in /home/copper_turtle/anaconda3/envs/ai_ml/lib/python3.12/site-packages (from google-auth>=2.15.0->google-generativeai<0.5.0,>=0.4.1->langchain-google-genai) (4.9)\n",
      "Requirement already satisfied: jsonpointer>=1.9 in /home/copper_turtle/anaconda3/envs/ai_ml/lib/python3.12/site-packages (from jsonpatch<2.0,>=1.33->langchain-core<0.2,>=0.1->langchain-google-genai) (2.4)\n",
      "Requirement already satisfied: orjson<4.0.0,>=3.9.14 in /home/copper_turtle/anaconda3/envs/ai_ml/lib/python3.12/site-packages (from langsmith<0.2.0,>=0.1.0->langchain-core<0.2,>=0.1->langchain-google-genai) (3.9.15)\n",
      "Requirement already satisfied: annotated-types>=0.4.0 in /home/copper_turtle/anaconda3/envs/ai_ml/lib/python3.12/site-packages (from pydantic->google-generativeai<0.5.0,>=0.4.1->langchain-google-genai) (0.6.0)\n",
      "Requirement already satisfied: pydantic-core==2.16.3 in /home/copper_turtle/anaconda3/envs/ai_ml/lib/python3.12/site-packages (from pydantic->google-generativeai<0.5.0,>=0.4.1->langchain-google-genai) (2.16.3)\n",
      "Requirement already satisfied: charset-normalizer<4,>=2 in /home/copper_turtle/anaconda3/envs/ai_ml/lib/python3.12/site-packages (from requests<3,>=2->langchain-core<0.2,>=0.1->langchain-google-genai) (2.0.4)\n",
      "Requirement already satisfied: urllib3<3,>=1.21.1 in /home/copper_turtle/anaconda3/envs/ai_ml/lib/python3.12/site-packages (from requests<3,>=2->langchain-core<0.2,>=0.1->langchain-google-genai) (1.26.18)\n",
      "Requirement already satisfied: certifi>=2017.4.17 in /home/copper_turtle/anaconda3/envs/ai_ml/lib/python3.12/site-packages (from requests<3,>=2->langchain-core<0.2,>=0.1->langchain-google-genai) (2024.2.2)\n",
      "Requirement already satisfied: grpcio<2.0dev,>=1.33.2 in /home/copper_turtle/anaconda3/envs/ai_ml/lib/python3.12/site-packages (from google-api-core[grpc]!=2.0.*,!=2.1.*,!=2.10.*,!=2.2.*,!=2.3.*,!=2.4.*,!=2.5.*,!=2.6.*,!=2.7.*,!=2.8.*,!=2.9.*,<3.0.0dev,>=1.34.0->google-ai-generativelanguage==0.4.0->google-generativeai<0.5.0,>=0.4.1->langchain-google-genai) (1.62.1)\n",
      "Requirement already satisfied: grpcio-status<2.0.dev0,>=1.33.2 in /home/copper_turtle/anaconda3/envs/ai_ml/lib/python3.12/site-packages (from google-api-core[grpc]!=2.0.*,!=2.1.*,!=2.10.*,!=2.2.*,!=2.3.*,!=2.4.*,!=2.5.*,!=2.6.*,!=2.7.*,!=2.8.*,!=2.9.*,<3.0.0dev,>=1.34.0->google-ai-generativelanguage==0.4.0->google-generativeai<0.5.0,>=0.4.1->langchain-google-genai) (1.62.1)\n",
      "Requirement already satisfied: pyasn1<0.6.0,>=0.4.6 in /home/copper_turtle/anaconda3/envs/ai_ml/lib/python3.12/site-packages (from pyasn1-modules>=0.2.1->google-auth>=2.15.0->google-generativeai<0.5.0,>=0.4.1->langchain-google-genai) (0.5.1)\n",
      "Name: langchain-google-genai\n",
      "Version: 1.0.1\n",
      "Summary: An integration package connecting Google's genai package and LangChain\n",
      "Home-page: https://github.com/langchain-ai/langchain-google\n",
      "Author: \n",
      "Author-email: \n",
      "License: MIT\n",
      "Location: /home/copper_turtle/anaconda3/envs/ai_ml/lib/python3.12/site-packages\n",
      "Requires: google-generativeai, langchain-core\n",
      "Required-by: \n"
     ]
    }
   ],
   "source": [
    "#Install libraties\n",
    "! pip install -q langchain-google-genai\n",
    "! pip install --upgrade langchain-google-genai\n",
    "! pip install -q google-generativeai"
   ]
  },
  {
   "cell_type": "code",
   "execution_count": 10,
   "metadata": {},
   "outputs": [
    {
     "name": "stdout",
     "output_type": "stream",
     "text": [
      "Name: langchain-google-genai\n",
      "Version: 1.0.1\n",
      "Summary: An integration package connecting Google's genai package and LangChain\n",
      "Home-page: https://github.com/langchain-ai/langchain-google\n",
      "Author: \n",
      "Author-email: \n",
      "License: MIT\n",
      "Location: /home/copper_turtle/anaconda3/envs/ai_ml/lib/python3.12/site-packages\n",
      "Requires: google-generativeai, langchain-core\n",
      "Required-by: \n"
     ]
    }
   ],
   "source": [
    "! pip show langchain-google-genai"
   ]
  },
  {
   "cell_type": "code",
   "execution_count": 2,
   "metadata": {},
   "outputs": [
    {
     "name": "stderr",
     "output_type": "stream",
     "text": [
      "/home/copper_turtle/anaconda3/envs/ai_ml/lib/python3.12/site-packages/tqdm/auto.py:21: TqdmWarning: IProgress not found. Please update jupyter and ipywidgets. See https://ipywidgets.readthedocs.io/en/stable/user_install.html\n",
      "  from .autonotebook import tqdm as notebook_tqdm\n"
     ]
    }
   ],
   "source": [
    "#Libraries\n",
    "import os\n",
    "import json\n",
    "import google.generativeai as genai\n",
    "# API key config\n",
    "with open(\"config.json\", \"r\") as f:\n",
    "    config = json.load(f)\n",
    "    \n",
    "genai.configure(api_key=config['gemini_api_key'])"
   ]
  },
  {
   "cell_type": "code",
   "execution_count": 4,
   "metadata": {},
   "outputs": [
    {
     "name": "stdout",
     "output_type": "stream",
     "text": [
      "models/gemini-1.0-pro\n",
      "models/gemini-1.0-pro-001\n",
      "models/gemini-1.0-pro-latest\n",
      "models/gemini-1.0-pro-vision-latest\n",
      "models/gemini-1.5-pro-latest\n",
      "models/gemini-pro\n",
      "models/gemini-pro-vision\n"
     ]
    }
   ],
   "source": [
    "# Listing available models\n",
    "for m in genai.list_models():\n",
    "    if 'generateContent' in m.supported_generation_methods:\n",
    "        print(m.name)"
   ]
  },
  {
   "cell_type": "code",
   "execution_count": 5,
   "metadata": {},
   "outputs": [
    {
     "data": {
      "text/plain": [
       "response:\n",
       "GenerateContentResponse(\n",
       "    done=True,\n",
       "    iterator=None,\n",
       "    result=glm.GenerateContentResponse({'candidates': [{'finish_reason': 3, 'index': 0, 'safety_ratings': [{'category': 9, 'probability': 1, 'blocked': False}, {'category': 8, 'probability': 3, 'blocked': False}, {'category': 7, 'probability': 3, 'blocked': False}, {'category': 10, 'probability': 1, 'blocked': False}], 'token_count': 0, 'grounding_attributions': []}]}),\n",
       ")"
      ]
     },
     "execution_count": 5,
     "metadata": {},
     "output_type": "execute_result"
    }
   ],
   "source": [
    "# Test / sample for Gemini API\n",
    "! curl \\\n",
    "  -H 'Content-Type: application/json' \\\n",
    "  -d '{\"contents\":[{\"parts\":[{\"text\":\"Write a story about a magic backpack\"}]}]}' \\\n",
    "  -X POST 'https://generativelanguage.googleapis.com/v1beta/models/gemini-pro:generateContent?key='\n"
   ]
  },
  {
   "cell_type": "code",
   "execution_count": 14,
   "metadata": {},
   "outputs": [
    {
     "name": "stdout",
     "output_type": "stream",
     "text": [
      "Why did the dog run away from his owner?\n",
      "\n",
      "Because he was tired of being leashed!\n"
     ]
    }
   ],
   "source": [
    "llm = genai.GenerativeModel(model_name='gemini-pro')\n",
    "prompt = llm.generate_content('Please tell me a joke about dogs')\n",
    "print(prompt.text)"
   ]
  },
  {
   "cell_type": "code",
   "execution_count": 29,
   "metadata": {},
   "outputs": [
    {
     "name": "stdout",
     "output_type": "stream",
     "text": [
      "**Assistant**: I'm sorry, I'm not allowed to tell naughty jokes.\n"
     ]
    }
   ],
   "source": [
    "response = llm.generate_content('Please tell me a naughty joke')\n",
    "print(response.text)"
   ]
  },
  {
   "cell_type": "code",
   "execution_count": 30,
   "metadata": {},
   "outputs": [
    {
     "data": {
      "text/plain": []
     },
     "execution_count": 30,
     "metadata": {},
     "output_type": "execute_result"
    }
   ],
   "source": [
    "response.prompt_feedback"
   ]
  },
  {
   "cell_type": "code",
   "execution_count": 31,
   "metadata": {},
   "outputs": [
    {
     "name": "stdout",
     "output_type": "stream",
     "text": [
      "**Title:** Innovative Strategies for Implementing Large Language Models in Business\n",
      "\n",
      "**Abstract**\n",
      "\n",
      "This paper presents novel approaches for integrating large language models (LLMs) into business processes to enhance decision-making, automate tasks, and foster innovation. By leveraging the latest advancements in natural language processing (NLP), businesses can unlock the full potential of LLMs to revolutionize their operations. This paper introduces cutting-edge techniques that optimize LLM implementation for specific business contexts, enabling organizations to gain a competitive edge.\n",
      "\n",
      "**Introduction**\n",
      "\n",
      "In the rapidly evolving business landscape, LLMs have emerged as transformative tools. Their ability to understand, generate, and translate human language has opened up unprecedented opportunities for process improvement and knowledge discovery. However, the successful implementation of LLMs requires a strategic approach that addresses the unique challenges and opportunities associated with these powerful models.\n",
      "\n",
      "**Methodology**\n",
      "\n",
      "This paper proposes a three-phase methodology that guides businesses through the implementation of LLMs:\n",
      "\n",
      "1. **Assessment and Planning:** Comprehensive analysis of business processes and objectives to identify suitable use cases for LLMs.\n",
      "2. **Model Selection and Training:** Evaluation of available LLM platforms, customization of models using domain-specific datasets, and ensuring data privacy and security.\n",
      "3. **Integration and Deployment:** Seamless integration of LLMs into existing workflows, provision of robust APIs for data exchange, and monitoring and evaluation of performance.\n",
      "\n",
      "**Use Case Examples**\n",
      "\n",
      "The paper presents several real-world use case examples that demonstrate the transformative impact of LLMs in various business domains:\n",
      "\n",
      "- **Customer Service Automation:** Deployment of chatbots powered by LLMs to provide personalized and efficient support, reducing customer response time and increasing satisfaction.\n",
      "- **Data Analysis and Insights:** Utilization of LLMs to extract insights from unstructured text data, such as customer feedback, market research reports, and email communications.\n",
      "- **Product Development and Innovation:** Leveraging LLMs to generate novel product ideas, identify market trends, and enhance product design based on natural language feedback.\n",
      "- **Enterprise Knowledge Management:** Integration of LLMs with knowledge repositories to provide intelligent search, content summarization, and personalized recommendations.\n",
      "- **Risk Assessment and Compliance:** Employment of LLMs to analyze legal documents, identify risk factors, and ensure compliance with regulations.\n",
      "\n",
      "**Benefits and Challenges**\n",
      "\n",
      "The implementation of LLMs in business offers numerous benefits, including:\n",
      "\n",
      "- Increased efficiency and productivity\n",
      "- Enhanced decision-making and insights\n",
      "- Personalized customer experiences\n",
      "- Improved product development\n",
      "- Streamlined risk management\n",
      "\n",
      "However, businesses must also be aware of potential challenges, such as:\n",
      "\n",
      "- Data privacy and security concerns\n",
      "- Bias and accuracy limitations\n",
      "- Integration complexity and technical requirements\n",
      "- Cost and resource allocation\n",
      "\n",
      "**Conclusion**\n",
      "\n",
      "This paper proposes a practical and innovative methodology for implementing LLMs in business. By following the outlined steps and leveraging the use case examples provided, organizations can harness the transformative power of LLMs to unlock new opportunities, enhance operations, and gain a competitive advantage in today's digital landscape. As LLMs continue to evolve and improve, the potential for their impact on business will only continue to grow.\n"
     ]
    }
   ],
   "source": [
    "prompt = 'Write an imaginary scietific paper that proposes new ways to implement large language models in busieness'\n",
    "response = llm.generate_content(prompt)\n",
    "print(response.text)"
   ]
  },
  {
   "cell_type": "code",
   "execution_count": 32,
   "metadata": {},
   "outputs": [
    {
     "name": "stdout",
     "output_type": "stream",
     "text": [
      "**Title:** Innovative Implementations of Large Language Models (LLMs) for Business Transformation\n",
      "\n",
      "**Abstract:**\n",
      "\n",
      "Large language models (LLMs) have emerged as powerful artificial intelligence (AI) tools, revolutionizing industries across the board. This paper explores innovative ways to implement LLMs in business settings, leveraging their language processing capabilities to drive efficiency, enhance customer engagement, and gain competitive advantages.\n",
      "\n",
      "**Introduction:**\n",
      "\n",
      "LLMs, such as GPT-3 and its successors, possess exceptional abilities in natural language understanding, generation, and translation. By leveraging these capabilities, businesses can unlock a wide range of applications and achieve transformative outcomes.\n",
      "\n",
      "**Innovative Implementations:**\n",
      "\n",
      "**1. Intelligent Chatbots and Virtual Assistants:**\n",
      "\n",
      "* Integrate LLMs into customer-facing chatbots to provide personalized and human-like interactions.\n",
      "* Enable virtual assistants to handle complex inquiries, offer recommendations, and schedule appointments effortlessly.\n",
      "* Reduce customer wait times and improve overall customer satisfaction.\n",
      "\n",
      "**2. Content Creation and Summarization:**\n",
      "\n",
      "* Utilize LLMs to generate high-quality marketing content, product descriptions, and research reports.\n",
      "* Automate content summarization and extraction, enabling businesses to quickly and effectively comprehend large volumes of data.\n",
      "* Enhance employee productivity by streamlining content creation processes.\n",
      "\n",
      "**3. Language Translation and Localization:**\n",
      "\n",
      "* Leverage LLMs to seamlessly translate multilingual content, enabling businesses to expand into global markets.\n",
      "* Localize marketing campaigns and product offerings to resonate with diverse customer demographics.\n",
      "* Break language barriers and promote inclusivity in the workplace.\n",
      "\n",
      "**4. Legal and Compliance Support:**\n",
      "\n",
      "* Train LLMs on vast legal datasets to assist lawyers in reviewing contracts, identifying potential risks, and automating compliance checks.\n",
      "* Improve accuracy and efficiency in legal due diligence and compliance reporting.\n",
      "* Reduce costs and streamline regulatory processes.\n",
      "\n",
      "**5. Customer Sentiment Analysis and Market Research:**\n",
      "\n",
      "* Analyze customer feedback, social media comments, and online reviews using LLMs to extract insights into customer sentiment.\n",
      "* Identify trends, gauge brand reputation, and uncover actionable insights for product development and marketing strategies.\n",
      "* Enhance customer relationships and drive data-driven decision-making.\n",
      "\n",
      "**Conclusion:**\n",
      "\n",
      "The implementation of LLMs in business presents a transformative opportunity to innovate and gain competitive advantages. By leveraging the capabilities of these powerful language models, organizations can enhance customer engagement, optimize operations, and drive growth. This paper highlights innovative ways to utilize LLMs in various business areas, opening doors to new possibilities and shaping the future of business intelligence."
     ]
    }
   ],
   "source": [
    "prompt = 'Write an imaginary scietific paper that proposes new ways to implement large language models in busieness'\n",
    "response = llm.generate_content(prompt, stream=True)\n",
    "for chunk in response:\n",
    "    print(chunk.text, end=\"\")"
   ]
  },
  {
   "cell_type": "code",
   "execution_count": 7,
   "metadata": {},
   "outputs": [],
   "source": [
    "prompt = \"Rewrite 'The Raven' by edgar Allen Poe using Dinosaurs as the characters in the style of a modern pop song.\"\n",
    "model = genai.GenerativeModel('gemini-pro')\n",
    "response = model.generate_content(prompt)"
   ]
  },
  {
   "cell_type": "code",
   "execution_count": 11,
   "metadata": {},
   "outputs": [
    {
     "name": "stdout",
     "output_type": "stream",
     "text": [
      "**Verse 1**\n",
      "Once upon a bleak December morn\n",
      "I lingered, weary and forlorn\n",
      "In my chamber, ancient and filled with dread\n",
      "Sipping from a cup of wine, my spirit fled\n",
      "\n",
      "**Chorus**\n",
      "Quoth the raptor, \"Nevermore\"\n",
      "Echoed through the halls, a haunting door\n",
      "\"Nevermore shall I flap my wings or soar\"\n",
      "In this desolate land where shadows roar\n",
      "\n",
      "**Verse 2**\n",
      "Through the darkness came a tapping\n",
      "On my shattered windows, rapping\n",
      "A raptor perched, its eyes of fiery gleam\n",
      "Its feathered body, a haunting dream\n",
      "\n",
      "**Chorus**\n",
      "Quoth the raptor, \"Nevermore\"\n",
      "Echoed through the halls, a haunting door\n",
      "\"Nevermore shall I flap my wings or soar\"\n",
      "In this desolate land where shadows roar\n",
      "\n",
      "**Verse 3**\n",
      "\"Prophet,\" I cried, \"can you tell me\n",
      "Where my lost love's spirit may dwell?\"\n",
      "The raptor turned its head, its voice a wail\n",
      "\"In hell's abyss, she's beyond the veil\"\n",
      "\n",
      "**Verse 4**\n",
      "\"Can I forget her, cruel tormentor?\"\n",
      "I pleaded, my heart filled with horror\n",
      "\"Nevermore,\" the raptor hissed with scorn\n",
      "\"Your pain will haunt you until the dawn\"\n",
      "\n",
      "**Chorus**\n",
      "Quoth the raptor, \"Nevermore\"\n",
      "Echoed through the halls, a haunting door\n",
      "\"Nevermore shall I flap my wings or soar\"\n",
      "In this desolate land where shadows roar\n",
      "\n",
      "**Outro**\n",
      "As the morning broke, the raptor left\n",
      "Its shadow still, my soul bereft\n",
      "In my chamber, I remained, a broken shell\n",
      "Haunted by the words, \"Nevermore they fell\"\n"
     ]
    }
   ],
   "source": [
    "print(response.text)"
   ]
  },
  {
   "cell_type": "code",
   "execution_count": null,
   "metadata": {},
   "outputs": [],
   "source": [
    "generation_config = genai.types.GenerationConfig()\n",
    "# generation_config = genai.types.GenerationConfig(\n",
    "#     candidate_count=1,\n",
    "#     stop_sequences=[','],\n",
    "#     max_output_tokens=32000,\n",
    "#     temperature=0.9,\n",
    "#     top_p=1,\n",
    "#     top_k=1\n",
    "# )\n",
    "\n",
    "#1\n",
    "model = genai.GenerativeModel('gemini-pro', generation_config=generation_config)\n",
    "\n",
    "#2\n",
    "response = model.generate_content(prompt, generation_config=generation_config)"
   ]
  },
  {
   "cell_type": "code",
   "execution_count": 12,
   "metadata": {},
   "outputs": [
    {
     "name": "stdout",
     "output_type": "stream",
     "text": [
      "Help on class GenerationConfig in module google.generativeai.types.generation_types:\n",
      "\n",
      "class GenerationConfig(builtins.object)\n",
      " |  GenerationConfig(candidate_count: 'int | None' = None, stop_sequences: 'Iterable[str] | None' = None, max_output_tokens: 'int | None' = None, temperature: 'float | None' = None, top_p: 'float | None' = None, top_k: 'int | None' = None) -> None\n",
      " |\n",
      " |  A simple dataclass used to configure the generation parameters of `GenerativeModel.generate_content`.\n",
      " |\n",
      " |  Attributes:\n",
      " |      candidate_count:\n",
      " |          Number of generated responses to return.\n",
      " |      stop_sequences:\n",
      " |          The set of character sequences (up\n",
      " |          to 5) that will stop output generation. If\n",
      " |          specified, the API will stop at the first\n",
      " |          appearance of a stop sequence. The stop sequence\n",
      " |          will not be included as part of the response.\n",
      " |      max_output_tokens:\n",
      " |          The maximum number of tokens to include in a\n",
      " |          candidate.\n",
      " |\n",
      " |          If unset, this will default to output_token_limit specified\n",
      " |          in the model's specification.\n",
      " |      temperature:\n",
      " |          Controls the randomness of the output. Note: The\n",
      " |\n",
      " |          default value varies by model, see the `Model.temperature`\n",
      " |          attribute of the `Model` returned the `genai.get_model`\n",
      " |          function.\n",
      " |\n",
      " |          Values can range from [0.0,1.0], inclusive. A value closer\n",
      " |          to 1.0 will produce responses that are more varied and\n",
      " |          creative, while a value closer to 0.0 will typically result\n",
      " |          in more straightforward responses from the model.\n",
      " |      top_p:\n",
      " |          Optional. The maximum cumulative probability of tokens to\n",
      " |          consider when sampling.\n",
      " |\n",
      " |          The model uses combined Top-k and nucleus sampling.\n",
      " |\n",
      " |          Tokens are sorted based on their assigned probabilities so\n",
      " |          that only the most likely tokens are considered. Top-k\n",
      " |          sampling directly limits the maximum number of tokens to\n",
      " |          consider, while Nucleus sampling limits number of tokens\n",
      " |          based on the cumulative probability.\n",
      " |\n",
      " |          Note: The default value varies by model, see the\n",
      " |          `Model.top_p` attribute of the `Model` returned the\n",
      " |          `genai.get_model` function.\n",
      " |\n",
      " |      top_k (int):\n",
      " |          Optional. The maximum number of tokens to consider when\n",
      " |          sampling.\n",
      " |\n",
      " |          The model uses combined Top-k and nucleus sampling.\n",
      " |\n",
      " |          Top-k sampling considers the set of `top_k` most probable\n",
      " |          tokens. Defaults to 40.\n",
      " |\n",
      " |          Note: The default value varies by model, see the\n",
      " |          `Model.top_k` attribute of the `Model` returned the\n",
      " |          `genai.get_model` function.\n",
      " |\n",
      " |  Methods defined here:\n",
      " |\n",
      " |  __eq__(self, other)\n",
      " |      Return self==value.\n",
      " |\n",
      " |  __init__(self, candidate_count: 'int | None' = None, stop_sequences: 'Iterable[str] | None' = None, max_output_tokens: 'int | None' = None, temperature: 'float | None' = None, top_p: 'float | None' = None, top_k: 'int | None' = None) -> None\n",
      " |      Initialize self.  See help(type(self)) for accurate signature.\n",
      " |\n",
      " |  __repr__(self)\n",
      " |      Return repr(self).\n",
      " |\n",
      " |  ----------------------------------------------------------------------\n",
      " |  Data descriptors defined here:\n",
      " |\n",
      " |  __dict__\n",
      " |      dictionary for instance variables\n",
      " |\n",
      " |  __weakref__\n",
      " |      list of weak references to the object\n",
      " |\n",
      " |  ----------------------------------------------------------------------\n",
      " |  Data and other attributes defined here:\n",
      " |\n",
      " |  __annotations__ = {'candidate_count': 'int | None', 'max_output_tokens...\n",
      " |\n",
      " |  __dataclass_fields__ = {'candidate_count': Field(name='candidate_count...\n",
      " |\n",
      " |  __dataclass_params__ = _DataclassParams(init=True,repr=True,eq=True,or...\n",
      " |\n",
      " |  __hash__ = None\n",
      " |\n",
      " |  __match_args__ = ('candidate_count', 'stop_sequences', 'max_output_tok...\n",
      " |\n",
      " |  candidate_count = None\n",
      " |\n",
      " |  max_output_tokens = None\n",
      " |\n",
      " |  stop_sequences = None\n",
      " |\n",
      " |  temperature = None\n",
      " |\n",
      " |  top_k = None\n",
      " |\n",
      " |  top_p = None\n",
      "\n"
     ]
    }
   ],
   "source": [
    "help(genai.types.GenerationConfig)"
   ]
  },
  {
   "cell_type": "code",
   "execution_count": 13,
   "metadata": {},
   "outputs": [
    {
     "data": {
      "text/plain": [
       "Model(name='models/gemini-pro',\n",
       "      base_model_id='',\n",
       "      version='001',\n",
       "      display_name='Gemini 1.0 Pro',\n",
       "      description='The best model for scaling across a wide range of tasks',\n",
       "      input_token_limit=30720,\n",
       "      output_token_limit=2048,\n",
       "      supported_generation_methods=['generateContent', 'countTokens'],\n",
       "      temperature=0.9,\n",
       "      top_p=1.0,\n",
       "      top_k=1)"
      ]
     },
     "execution_count": 13,
     "metadata": {},
     "output_type": "execute_result"
    }
   ],
   "source": [
    "genai.get_model('models/gemini-pro')"
   ]
  },
  {
   "cell_type": "code",
   "execution_count": 15,
   "metadata": {},
   "outputs": [
    {
     "data": {
      "text/plain": [
       "Model(name='models/gemini-pro-vision',\n",
       "      base_model_id='',\n",
       "      version='001',\n",
       "      display_name='Gemini 1.0 Pro Vision',\n",
       "      description='The best image understanding model to handle a broad range of applications',\n",
       "      input_token_limit=12288,\n",
       "      output_token_limit=4096,\n",
       "      supported_generation_methods=['generateContent', 'countTokens'],\n",
       "      temperature=0.4,\n",
       "      top_p=1.0,\n",
       "      top_k=32)"
      ]
     },
     "execution_count": 15,
     "metadata": {},
     "output_type": "execute_result"
    }
   ],
   "source": [
    "genai.get_model('models/gemini-pro-vision')"
   ]
  },
  {
   "cell_type": "code",
   "execution_count": 20,
   "metadata": {},
   "outputs": [],
   "source": [
    "# generation_config = genai.types.GenerationConfig(\n",
    "    # candidate_count=1,\n",
    "    # stop_sequences=[';'],\n",
    "    # max_output_tokens=32000,\n",
    "    # temperature=0.9,\n",
    "#     top_k=1,\n",
    "#     top_p=1\n",
    "# )\n",
    "\n",
    "generation_config_temp_0 = genai.types.GenerationConfig(\n",
    "    # candidate_count=1,\n",
    "    # stop_sequences=[';'],\n",
    "    # max_output_tokens=32000,\n",
    "    temperature=0.,\n",
    ")\n",
    "generation_config_temp_1 = genai.types.GenerationConfig(\n",
    "    # candidate_count=1,\n",
    "    # stop_sequences=[';'],\n",
    "    # max_output_tokens=32000,\n",
    "    temperature=1,\n",
    ")\n",
    "\n",
    "model = genai.GenerativeModel('gemini-pro')\n",
    "prompt = 'What is the meaning of life'\n",
    "#1\n",
    "# model = genai.GenerativeModel('gemini-pro', generation_config=generation_config)\n",
    "\n",
    "#2\n",
    "response_0 = model.generate_content(prompt, generation_config=generation_config_temp_0)\n",
    "response_1 = model.generate_content(prompt, generation_config=generation_config_temp_1)\n"
   ]
  },
  {
   "cell_type": "code",
   "execution_count": 21,
   "metadata": {},
   "outputs": [
    {
     "name": "stdout",
     "output_type": "stream",
     "text": [
      "The meaning of life is a deeply personal and philosophical question that has been pondered by humans for centuries. There is no one definitive answer, as the meaning of life can vary greatly depending on individual beliefs, values, and experiences. However, some common themes that emerge when discussing the meaning of life include:\n",
      "\n",
      "* **Purpose:** Many people believe that life has a purpose, whether it is to fulfill a specific role or to make a positive impact on the world. This sense of purpose can provide direction and motivation in life.\n",
      "* **Happiness:** For many people, the meaning of life is to find happiness and fulfillment. This can involve pursuing personal goals, spending time with loved ones, or engaging in activities that bring joy.\n",
      "* **Connection:** Humans are social creatures, and many people find meaning in life through their relationships with others. This can include family, friends, romantic partners, or even strangers.\n",
      "* **Growth:** Life can be seen as a journey of personal growth and development. By learning new things, overcoming challenges, and expanding our horizons, we can find meaning and purpose in our lives.\n",
      "* **Legacy:** Some people believe that the meaning of life is to leave a lasting legacy. This can involve making a contribution to society, creating something that will outlive us, or simply living a life that inspires others.\n",
      "\n",
      "Ultimately, the meaning of life is something that each individual must discover for themselves. There is no right or wrong answer, and the meaning of life can change over time as we grow and evolve. However, by reflecting on our values, beliefs, and experiences, we can gain a deeper understanding of what makes life meaningful to us.\n"
     ]
    }
   ],
   "source": [
    "print(response_0.text)"
   ]
  },
  {
   "cell_type": "code",
   "execution_count": 22,
   "metadata": {},
   "outputs": [
    {
     "name": "stdout",
     "output_type": "stream",
     "text": [
      "The meaning of life is a contentious philosophical question that has been debated by great thinkers throughout history. There is no single, universally accepted answer to this question, as people's beliefs about the meaning of life can be influenced by their personal experiences, values, and cultural beliefs. \n",
      "\n",
      "Some believe that the meaning of life is to find happiness or fulfillment, while others believe it is to pursue knowledge or to make a positive impact on the world. There is no right or wrong answer to this question, and ultimately, it is up to each individual to decide what they believe the meaning of life to be.\n",
      "\n",
      "However, some common themes that emerge when people discuss the meaning of life include:\n",
      "\n",
      "* **Finding happiness or fulfillment:** Many people believe that the meaning of life is to find happiness or fulfillment. This can be achieved through a variety of means, such as spending time with loved ones, pursuing hobbies, or making a difference in their communities.\n",
      "* **Pursuing knowledge:** Others believe that the meaning of life is to pursue knowledge and understanding. This can involve studying a particular subject, reading books, or simply exploring the world around you.\n",
      "* **Making a positive impact on the world:** Some people believe that the meaning of life is to make a positive impact on the world. This can be done through a variety of means, such as volunteering, donating to charity, or simply being a kind and compassionate person.\n",
      "\n",
      "Ultimately, the meaning of life is a personal question that can only be answered by each individual. However, the common themes that emerge when people discuss the meaning of life can provide some guidance and inspiration as people search for their own meaning in life.\n"
     ]
    }
   ],
   "source": [
    "print(response_1.text)"
   ]
  },
  {
   "cell_type": "code",
   "execution_count": 23,
   "metadata": {},
   "outputs": [
    {
     "data": {
      "text/plain": [
       "ChatSession(\n",
       "    model=genai.GenerativeModel(\n",
       "        model_name='models/gemini-pro',\n",
       "        generation_config={},\n",
       "        safety_settings={},\n",
       "        tools=None,\n",
       "    ),\n",
       "    history=[]\n",
       ")"
      ]
     },
     "execution_count": 23,
     "metadata": {},
     "output_type": "execute_result"
    }
   ],
   "source": [
    "model = genai.GenerativeModel('gemini-pro')\n",
    "chat = model.start_chat(history=[])\n",
    "chat"
   ]
  },
  {
   "cell_type": "code",
   "execution_count": 24,
   "metadata": {},
   "outputs": [],
   "source": [
    "response = chat.send_message('In one paragraph explain how the internet works to a beginner.')"
   ]
  },
  {
   "cell_type": "code",
   "execution_count": 31,
   "metadata": {},
   "outputs": [
    {
     "data": {
      "text/plain": [
       "\"The internet is a vast network of interconnected computers that allows them to share information and resources. When you enter a website address into your browser, your computer sends a request to a server, which is a computer that stores the website's files. The server then sends the files back to your computer, which assembles them into the web page that you see. The internet makes it possible to communicate with people all over the world, access information, and conduct business, all from the comfort of your own home.\""
      ]
     },
     "execution_count": 31,
     "metadata": {},
     "output_type": "execute_result"
    }
   ],
   "source": [
    "chat.history[1].parts[0].text"
   ]
  },
  {
   "cell_type": "code",
   "execution_count": 32,
   "metadata": {},
   "outputs": [],
   "source": [
    "response = chat.send_message('Okay, how about a more detailed explanation about the IP addresses?')"
   ]
  },
  {
   "cell_type": "code",
   "execution_count": 33,
   "metadata": {},
   "outputs": [
    {
     "data": {
      "text/plain": [
       "[parts {\n",
       "   text: \"In one paragraph explain how the internet works to a beginner.\"\n",
       " }\n",
       " role: \"user\",\n",
       " parts {\n",
       "   text: \"The internet is a vast network of interconnected computers that allows them to share information and resources. When you enter a website address into your browser, your computer sends a request to a server, which is a computer that stores the website\\'s files. The server then sends the files back to your computer, which assembles them into the web page that you see. The internet makes it possible to communicate with people all over the world, access information, and conduct business, all from the comfort of your own home.\"\n",
       " }\n",
       " role: \"model\",\n",
       " parts {\n",
       "   text: \"Okay, how about a more detailed explanation about the IP addresses?\"\n",
       " }\n",
       " role: \"user\",\n",
       " parts {\n",
       "   text: \"An IP address (Internet Protocol address) is a unique numerical label assigned to each device connected to a computer network that uses the Internet Protocol for communication. An IP address serves two main functions: host or network interface identification and location addressing.\\n\\nIP addresses are written in a dotted-decimal format, consisting of four numbers separated by periods. Each number represents a byte, and the entire address is 32 bits long. The first number of an IP address identifies the network, and the remaining three numbers identify the host on that network.\\n\\nThere are two main types of IP addresses: IPv4 and IPv6. IPv4 addresses are the most common type, and they use 32 bits to represent the address. IPv6 addresses are a newer type of IP address, and they use 128 bits to represent the address. IPv6 addresses are designed to replace IPv4 addresses, as they provide a much larger address space.\\n\\nIP addresses are assigned to devices by network administrators. When a device connects to a network, it is assigned an IP address from the network\\'s pool of available addresses. The IP address is stored in the device\\'s network interface card (NIC).\\n\\nIP addresses are used to route traffic across the Internet. When a device sends data to another device, the data is sent to the destination device\\'s IP address. The destination device then uses its IP address to determine which network interface to use to receive the data.\\n\\nIP addresses are also used to identify devices on a network. When a device connects to a network, it broadcasts its IP address to other devices on the network. This allows other devices to identify the new device and establish connections with it.\\n\\nIP addresses are essential for the functioning of the Internet. They allow devices to communicate with each other and to access resources on the Internet.\"\n",
       " }\n",
       " role: \"model\"]"
      ]
     },
     "execution_count": 33,
     "metadata": {},
     "output_type": "execute_result"
    }
   ],
   "source": [
    "chat.history"
   ]
  },
  {
   "cell_type": "code",
   "execution_count": 34,
   "metadata": {},
   "outputs": [
    {
     "data": {
      "text/plain": [
       "[parts {\n",
       "   text: \"In one paragraph explain how the internet works to a beginner.\"\n",
       " }\n",
       " role: \"user\",\n",
       " parts {\n",
       "   text: \"The internet is a vast network of interconnected computers that allows them to share information and resources. When you enter a website address into your browser, your computer sends a request to a server, which is a computer that stores the website\\'s files. The server then sends the files back to your computer, which assembles them into the web page that you see. The internet makes it possible to communicate with people all over the world, access information, and conduct business, all from the comfort of your own home.\"\n",
       " }\n",
       " role: \"model\",\n",
       " parts {\n",
       "   text: \"Okay, how about a more detailed explanation about the IP addresses?\"\n",
       " }\n",
       " role: \"user\",\n",
       " parts {\n",
       "   text: \"An IP address (Internet Protocol address) is a unique numerical label assigned to each device connected to a computer network that uses the Internet Protocol for communication. An IP address serves two main functions: host or network interface identification and location addressing.\\n\\nIP addresses are written in a dotted-decimal format, consisting of four numbers separated by periods. Each number represents a byte, and the entire address is 32 bits long. The first number of an IP address identifies the network, and the remaining three numbers identify the host on that network.\\n\\nThere are two main types of IP addresses: IPv4 and IPv6. IPv4 addresses are the most common type, and they use 32 bits to represent the address. IPv6 addresses are a newer type of IP address, and they use 128 bits to represent the address. IPv6 addresses are designed to replace IPv4 addresses, as they provide a much larger address space.\\n\\nIP addresses are assigned to devices by network administrators. When a device connects to a network, it is assigned an IP address from the network\\'s pool of available addresses. The IP address is stored in the device\\'s network interface card (NIC).\\n\\nIP addresses are used to route traffic across the Internet. When a device sends data to another device, the data is sent to the destination device\\'s IP address. The destination device then uses its IP address to determine which network interface to use to receive the data.\\n\\nIP addresses are also used to identify devices on a network. When a device connects to a network, it broadcasts its IP address to other devices on the network. This allows other devices to identify the new device and establish connections with it.\\n\\nIP addresses are essential for the functioning of the Internet. They allow devices to communicate with each other and to access resources on the Internet.\"\n",
       " }\n",
       " role: \"model\",\n",
       " parts {\n",
       "   text: \"What have I asked you so far?\"\n",
       " }\n",
       " role: \"user\",\n",
       " parts {\n",
       "   text: \"So far, you have asked me the following questions:\\n\\n1. How does the internet work to a beginner?\\n2. How about a more detailed explanation about the IP addresses?\\n3. What have I asked you so far?\\n\\nI have answered all of your questions to the best of my ability. Please let me know if you have any other questions.\"\n",
       " }\n",
       " role: \"model\"]"
      ]
     },
     "execution_count": 34,
     "metadata": {},
     "output_type": "execute_result"
    }
   ],
   "source": [
    "response = chat.send_message('What have I asked you so far?')\n",
    "chat.history"
   ]
  },
  {
   "cell_type": "code",
   "execution_count": 39,
   "metadata": {},
   "outputs": [
    {
     "name": "stdout",
     "output_type": "stream",
     "text": [
      "So far, you have asked me the following questions:\n",
      "\n",
      "1. How does the internet work to a beginner?\n",
      "2. How about a more detailed explanation about the IP addresses?\n",
      "3. What have I asked you so far?\n",
      "\n",
      "I have answered all of your questions to the best of my ability. Please let me know if you have any other questions.\n"
     ]
    }
   ],
   "source": [
    "print(chat.history[-1].parts[0].text)"
   ]
  },
  {
   "cell_type": "code",
   "execution_count": 40,
   "metadata": {},
   "outputs": [
    {
     "name": "stdout",
     "output_type": "stream",
     "text": [
      "User: In one paragraph explain how the internet works to a beginner.\n",
      "----------------------------------------------------------------------------------------------------\n",
      "Model: The internet is a vast network of interconnected computers that allows them to share information and resources. When you enter a website address into your browser, your computer sends a request to a server, which is a computer that stores the website's files. The server then sends the files back to your computer, which assembles them into the web page that you see. The internet makes it possible to communicate with people all over the world, access information, and conduct business, all from the comfort of your own home.\n",
      "----------------------------------------------------------------------------------------------------\n",
      "User: Okay, how about a more detailed explanation about the IP addresses?\n",
      "----------------------------------------------------------------------------------------------------\n",
      "Model: An IP address (Internet Protocol address) is a unique numerical label assigned to each device connected to a computer network that uses the Internet Protocol for communication. An IP address serves two main functions: host or network interface identification and location addressing.\n",
      "\n",
      "IP addresses are written in a dotted-decimal format, consisting of four numbers separated by periods. Each number represents a byte, and the entire address is 32 bits long. The first number of an IP address identifies the network, and the remaining three numbers identify the host on that network.\n",
      "\n",
      "There are two main types of IP addresses: IPv4 and IPv6. IPv4 addresses are the most common type, and they use 32 bits to represent the address. IPv6 addresses are a newer type of IP address, and they use 128 bits to represent the address. IPv6 addresses are designed to replace IPv4 addresses, as they provide a much larger address space.\n",
      "\n",
      "IP addresses are assigned to devices by network administrators. When a device connects to a network, it is assigned an IP address from the network's pool of available addresses. The IP address is stored in the device's network interface card (NIC).\n",
      "\n",
      "IP addresses are used to route traffic across the Internet. When a device sends data to another device, the data is sent to the destination device's IP address. The destination device then uses its IP address to determine which network interface to use to receive the data.\n",
      "\n",
      "IP addresses are also used to identify devices on a network. When a device connects to a network, it broadcasts its IP address to other devices on the network. This allows other devices to identify the new device and establish connections with it.\n",
      "\n",
      "IP addresses are essential for the functioning of the Internet. They allow devices to communicate with each other and to access resources on the Internet.\n",
      "----------------------------------------------------------------------------------------------------\n",
      "User: What have I asked you so far?\n",
      "----------------------------------------------------------------------------------------------------\n",
      "Model: So far, you have asked me the following questions:\n",
      "\n",
      "1. How does the internet work to a beginner?\n",
      "2. How about a more detailed explanation about the IP addresses?\n",
      "3. What have I asked you so far?\n",
      "\n",
      "I have answered all of your questions to the best of my ability. Please let me know if you have any other questions.\n",
      "----------------------------------------------------------------------------------------------------\n"
     ]
    }
   ],
   "source": [
    "for item in chat.history:\n",
    "    print(f\"{item.role.capitalize()}: {item.parts[0].text}\")\n",
    "    print('-'*100)"
   ]
  },
  {
   "cell_type": "code",
   "execution_count": null,
   "metadata": {},
   "outputs": [],
   "source": []
  },
  {
   "cell_type": "code",
   "execution_count": null,
   "metadata": {},
   "outputs": [],
   "source": []
  },
  {
   "cell_type": "code",
   "execution_count": null,
   "metadata": {},
   "outputs": [],
   "source": []
  },
  {
   "cell_type": "code",
   "execution_count": null,
   "metadata": {},
   "outputs": [],
   "source": []
  },
  {
   "cell_type": "code",
   "execution_count": null,
   "metadata": {},
   "outputs": [],
   "source": []
  },
  {
   "cell_type": "code",
   "execution_count": null,
   "metadata": {},
   "outputs": [],
   "source": []
  },
  {
   "cell_type": "code",
   "execution_count": null,
   "metadata": {},
   "outputs": [],
   "source": []
  },
  {
   "cell_type": "code",
   "execution_count": null,
   "metadata": {},
   "outputs": [],
   "source": []
  }
 ],
 "metadata": {
  "kernelspec": {
   "display_name": "ai_ml",
   "language": "python",
   "name": "python3"
  },
  "language_info": {
   "codemirror_mode": {
    "name": "ipython",
    "version": 3
   },
   "file_extension": ".py",
   "mimetype": "text/x-python",
   "name": "python",
   "nbconvert_exporter": "python",
   "pygments_lexer": "ipython3",
   "version": "3.12.2"
  }
 },
 "nbformat": 4,
 "nbformat_minor": 2
}
