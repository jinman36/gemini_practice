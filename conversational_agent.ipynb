{
 "cells": [
  {
   "cell_type": "code",
   "execution_count": 1,
   "metadata": {},
   "outputs": [
    {
     "name": "stderr",
     "output_type": "stream",
     "text": [
      "/home/copper_turtle/anaconda3/envs/ai_ml/lib/python3.12/site-packages/tqdm/auto.py:21: TqdmWarning: IProgress not found. Please update jupyter and ipywidgets. See https://ipywidgets.readthedocs.io/en/stable/user_install.html\n",
      "  from .autonotebook import tqdm as notebook_tqdm\n"
     ]
    }
   ],
   "source": [
    "#Libraries\n",
    "import os\n",
    "import json\n",
    "import time\n",
    "import google.generativeai as genai\n",
    "# API key config\n",
    "with open(\"config.json\", \"r\") as f:\n",
    "    config = json.load(f)\n",
    "    \n",
    "genai.configure(api_key=config['gemini_api_key'])"
   ]
  },
  {
   "cell_type": "code",
   "execution_count": 2,
   "metadata": {},
   "outputs": [
    {
     "name": "stdout",
     "output_type": "stream",
     "text": [
      "models/gemini-1.0-pro\n",
      "models/gemini-1.0-pro-001\n",
      "models/gemini-1.0-pro-latest\n",
      "models/gemini-1.0-pro-vision-latest\n",
      "models/gemini-1.5-pro-latest\n",
      "models/gemini-pro\n",
      "models/gemini-pro-vision\n"
     ]
    }
   ],
   "source": [
    "# Listing available models\n",
    "for m in genai.list_models():\n",
    "    if 'generateContent' in m.supported_generation_methods:\n",
    "        print(m.name)"
   ]
  },
  {
   "cell_type": "code",
   "execution_count": 3,
   "metadata": {},
   "outputs": [],
   "source": [
    "model = genai.GenerativeModel('gemini-pro')\n",
    "chat = model.start_chat(history=[])"
   ]
  },
  {
   "cell_type": "code",
   "execution_count": 4,
   "metadata": {},
   "outputs": [
    {
     "name": "stdout",
     "output_type": "stream",
     "text": [
      "Model: 149,597,870 kilometers\n",
      "****************************************************************************************************\n",
      "Model: 227,940,000 kilometers\n",
      "****************************************************************************************************\n",
      "Model: **To the Sun:**\n",
      "\n",
      "* Distance: 149,597,870 kilometers\n",
      "* Speed of light: 299,792 kilometers per second\n",
      "* Time: 8 minutes and 19 seconds\n",
      "\n",
      "**To Mars:**\n",
      "\n",
      "* Distance: 227,940,000 kilometers (at its closest point to Earth)\n",
      "* Speed of light: 299,792 kilometers per second\n",
      "* Time: 12 minutes and 30 seconds (at its closest point to Earth)\n",
      "\n",
      "Note that these are the travel times for light. For physical objects, such as spacecraft, the travel time will be much longer due to their limited speed.\n",
      "****************************************************************************************************\n",
      "Model: The questions you asked in this conversation are:\n",
      "\n",
      "1. What is the distance to the sun in kilometers?\n",
      "2. What about Mars?\n",
      "3. How long does it take for light to travel from the earth?\n",
      "\n",
      "You also asked a follow-up question:\n",
      "\n",
      "* How long does it take for light to travel from the earth to Mars?\n",
      "\n",
      "I hope this is helpful!\n",
      "****************************************************************************************************\n",
      "Quitting\n"
     ]
    }
   ],
   "source": [
    "\n",
    "while True:\n",
    "    prompt = input(\"User: \")\n",
    "    if prompt.lower() not in ['exit', 'quit', 'bye']:\n",
    "        response = chat.send_message(prompt)\n",
    "        print(f'{chat.history[-1].role.capitalize()}: {chat.history[-1].parts[0].text}')\n",
    "        print('*'*100)\n",
    "    else:\n",
    "        print('Quitting')\n",
    "        time.sleep(2)\n",
    "        break"
   ]
  }
 ],
 "metadata": {
  "kernelspec": {
   "display_name": "ai_ml",
   "language": "python",
   "name": "python3"
  },
  "language_info": {
   "codemirror_mode": {
    "name": "ipython",
    "version": 3
   },
   "file_extension": ".py",
   "mimetype": "text/x-python",
   "name": "python",
   "nbconvert_exporter": "python",
   "pygments_lexer": "ipython3",
   "version": "3.12.2"
  }
 },
 "nbformat": 4,
 "nbformat_minor": 2
}
